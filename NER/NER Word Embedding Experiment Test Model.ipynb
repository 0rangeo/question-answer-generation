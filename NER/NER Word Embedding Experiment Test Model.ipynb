{
 "cells": [
  {
   "cell_type": "code",
   "execution_count": 1,
   "metadata": {},
   "outputs": [
    {
     "name": "stderr",
     "output_type": "stream",
     "text": [
      "/home/agus/anaconda3/envs/basic/lib/python3.6/site-packages/sklearn/cross_validation.py:41: DeprecationWarning: This module was deprecated in version 0.18 in favor of the model_selection module into which all the refactored classes and functions are moved. Also note that the interface of the new CV iterators are different from that of this module. This module will be removed in 0.20.\n",
      "  \"This module will be removed in 0.20.\", DeprecationWarning)\n",
      "/home/agus/anaconda3/envs/basic/lib/python3.6/site-packages/sklearn/grid_search.py:42: DeprecationWarning: This module was deprecated in version 0.18 in favor of the model_selection module into which all the refactored classes and functions are moved. This module will be removed in 0.20.\n",
      "  DeprecationWarning)\n"
     ]
    }
   ],
   "source": [
    "import sklearn_crfsuite\n",
    "from sklearn_crfsuite import scorers\n",
    "from sklearn_crfsuite import metrics\n",
    "\n",
    "from nltk.tag.stanford import StanfordPOSTagger\n",
    "from stanford_postagger.stanford_wrapper import StanfordPOSTagger as StanfordPOSTaggerWrapper\n",
    "\n",
    "from sklearn.metrics import make_scorer\n",
    "from sklearn.model_selection import cross_val_score\n",
    "\n",
    "import scipy\n",
    "from sklearn.grid_search import RandomizedSearchCV"
   ]
  },
  {
   "cell_type": "code",
   "execution_count": 2,
   "metadata": {},
   "outputs": [],
   "source": [
    "%load_ext autoreload\n",
    "%autoreload 2"
   ]
  },
  {
   "cell_type": "markdown",
   "metadata": {},
   "source": [
    "# Read Dataset"
   ]
  },
  {
   "cell_type": "code",
   "execution_count": 3,
   "metadata": {},
   "outputs": [],
   "source": [
    "f = open('datasets/conll2003/train.txt', 'r')\n",
    "lines = f.readlines()\n",
    "f.close()\n",
    "\n",
    "del lines[0]\n",
    "del lines[0]\n",
    "\n",
    "dataset = []\n",
    "sentence = []\n",
    "for line in lines:\n",
    "    splitter = line.strip().split(' ')\n",
    "    if splitter[0] == '':\n",
    "        continue\n",
    "    elif (splitter[0] == '-DOCSTART-'):\n",
    "        dataset.append(sentence)\n",
    "        sentence = []\n",
    "    else:\n",
    "        token = splitter[0]\n",
    "        tag = splitter[3]\n",
    "        sentence.append((token, tag))"
   ]
  },
  {
   "cell_type": "code",
   "execution_count": 4,
   "metadata": {},
   "outputs": [],
   "source": [
    "def convert_conlltxt2dataset(filename):\n",
    "    f = open(filename, 'r')\n",
    "    lines = f.readlines()\n",
    "    f.close()\n",
    "    \n",
    "    del lines[0]\n",
    "    del lines[0]\n",
    "    \n",
    "    dataset = []\n",
    "    sentence = []\n",
    "    for line in lines:\n",
    "        splitter = line.strip().split(' ')\n",
    "        if splitter[0] == '':\n",
    "            continue\n",
    "        elif (splitter[0] == '-DOCSTART-'):\n",
    "            dataset.append(sentence)\n",
    "            sentence = []\n",
    "        else:\n",
    "            token = splitter[0]\n",
    "            tag = splitter[3]\n",
    "            sentence.append((token, tag))\n",
    "    return dataset"
   ]
  },
  {
   "cell_type": "code",
   "execution_count": 5,
   "metadata": {},
   "outputs": [],
   "source": [
    "validation_dataset = convert_conlltxt2dataset('datasets/conll2003/valid.txt')\n",
    "test_dataset = convert_conlltxt2dataset('datasets/conll2003/test.txt')"
   ]
  },
  {
   "cell_type": "markdown",
   "metadata": {},
   "source": [
    "# Add Postag to Dataset"
   ]
  },
  {
   "cell_type": "markdown",
   "metadata": {},
   "source": [
    "## Example"
   ]
  },
  {
   "cell_type": "code",
   "execution_count": 6,
   "metadata": {},
   "outputs": [
    {
     "data": {
      "text/plain": [
       "[('+44', 'CD'), ('171', 'CD')]"
      ]
     },
     "execution_count": 6,
     "metadata": {},
     "output_type": "execute_result"
    }
   ],
   "source": [
    "postagger = StanfordPOSTaggerWrapper()\n",
    "postag = postagger.tag('+44 171')\n",
    "postag"
   ]
  },
  {
   "cell_type": "code",
   "execution_count": 7,
   "metadata": {
    "scrolled": true
   },
   "outputs": [],
   "source": [
    "def add_postag2dataset(dataset):\n",
    "    postagger = StanfordPOSTaggerWrapper()\n",
    "    dataset_with_postag = []\n",
    "    for sent in dataset:\n",
    "        postagged_sent = []\n",
    "        for index, (token, tag) in enumerate(sent):\n",
    "            postagged_token = postagger.tag(token)\n",
    "            postagged_sent.append((token, postagged_token[0][1], tag))\n",
    "        dataset_with_postag.append(postagged_sent)\n",
    "        \n",
    "    return dataset_with_postag\n",
    "\n",
    "postagged_validation_dataset = add_postag2dataset(validation_dataset)\n",
    "postagged_test_dataset = add_postag2dataset(test_dataset)\n",
    "\n",
    "# Delete Unused Dataset\n",
    "del validation_dataset\n",
    "del test_dataset"
   ]
  },
  {
   "cell_type": "markdown",
   "metadata": {},
   "source": [
    "# Extract Feature"
   ]
  },
  {
   "cell_type": "code",
   "execution_count": 8,
   "metadata": {},
   "outputs": [],
   "source": [
    "def word2features(sent, i):\n",
    "    word = sent[i][0]\n",
    "    postag = sent[i][1]\n",
    "\n",
    "    # Ortographic Feature, Word, POSTag & N-Gram\n",
    "    features = {\n",
    "        'word.lower()': word.lower(),\n",
    "        'word[-3:]': word[-3:],\n",
    "        'word[-2:]': word[-2:],\n",
    "        'word[:2]': word[:2],\n",
    "        'word[:3]': word[:3],\n",
    "        'word.istitle()': word.istitle(),\n",
    "        'word.isdigit()': word.isdigit(),\n",
    "        'word.isupper()': word.isupper(),\n",
    "        'postag': postag,\n",
    "        'postag[:2]': postag[:2]\n",
    "    }\n",
    "    \n",
    "    # Position\n",
    "    features.update({\n",
    "        'pos_front': i,\n",
    "        'pos_end': len(sent) - i\n",
    "    })\n",
    "    \n",
    "    # Bag Of Words\n",
    "    if i > 0:\n",
    "        word1 = sent[i-1][0]\n",
    "        postag1 = sent[i-1][1]\n",
    "        features.update({\n",
    "            '-1:word.lower()': word1.lower(),\n",
    "            '-1:word.istitle()': word1.istitle(),\n",
    "            '-1:word.isupper()': word1.isupper(),\n",
    "            '-1:postag': postag1,\n",
    "            '-1:postag[:2]': postag1[:2],\n",
    "        })\n",
    "    else:\n",
    "        features['BOS'] = True\n",
    "        \n",
    "    if i < len(sent) - 1:\n",
    "        word1 = sent[i+1][0]\n",
    "        postag1 = sent[i+1][1]\n",
    "        features.update({\n",
    "            '+1:word.lower()': word1.lower(),\n",
    "            '+1:word.istitle()': word1.istitle(),\n",
    "            '+1:word.isupper()': word1.isupper(),\n",
    "            '+1:postag': postag1,\n",
    "            '+1:postag[:2]': postag1[:2],\n",
    "        })\n",
    "    else:\n",
    "        features['EOS'] = True\n",
    "\n",
    "    return features\n",
    "\n",
    "def sent2features(sent):\n",
    "    return [word2features(sent, i) for i in range(len(sent))]\n",
    "\n",
    "def sent2postag(sent):\n",
    "    return [postag for token, postag, label in sent]\n",
    "\n",
    "def sent2labels(sent):\n",
    "    return [label for token, postag, label in sent]\n",
    "\n",
    "def sent2tokens(sent):\n",
    "    return [token for token, postag, label in sent]"
   ]
  },
  {
   "cell_type": "markdown",
   "metadata": {},
   "source": [
    "# Feature Extraction"
   ]
  },
  {
   "cell_type": "code",
   "execution_count": 9,
   "metadata": {},
   "outputs": [],
   "source": [
    "X_val = [sent2features(sent) for sent in postagged_validation_dataset]\n",
    "y_val = [sent2labels(sent) for sent in postagged_validation_dataset]\n",
    "\n",
    "X_test = [sent2features(sent) for sent in postagged_test_dataset]\n",
    "y_test = [sent2labels(sent) for sent in postagged_test_dataset]\n",
    "\n",
    "del postagged_validation_dataset\n",
    "del postagged_test_dataset"
   ]
  },
  {
   "cell_type": "markdown",
   "metadata": {},
   "source": [
    "# Load Word Embedding and Add to The Feature"
   ]
  },
  {
   "cell_type": "code",
   "execution_count": 10,
   "metadata": {},
   "outputs": [],
   "source": [
    "def load_word_embedding_model(filename):\n",
    "    f = open(filename, 'r', encoding='utf-8')\n",
    "    lines = f.readlines()\n",
    "    del lines[0]\n",
    "\n",
    "    embedding_dict = {}\n",
    "    counter = 0\n",
    "    for line in lines:\n",
    "        line = line.strip()\n",
    "        arr = line.split(' ')\n",
    "        word = arr[0].lower()\n",
    "        vectors = [float(x) for x in arr[1:]]\n",
    "        embedding_dict[word] = vectors\n",
    "    return embedding_dict\n",
    "\n",
    "def add_word_embedding2feature(embedding_dict, feature):\n",
    "    VECTOR_SPACE_SIZE = 50\n",
    "    for i, sentence in enumerate(feature):\n",
    "        for j, token in enumerate(sentence):\n",
    "            word = token['word.lower()']\n",
    "            vector = []\n",
    "            if word in embedding_dict:\n",
    "                vector = embedding_dict[word]\n",
    "            else:\n",
    "                vector = [0 for i in range(VECTOR_SPACE_SIZE)]\n",
    "            for k in range(len(vector)):\n",
    "                wk = 'w{}'.format(k+1)\n",
    "                feature[i][j][wk] = vector[k]\n",
    "    return feature\n",
    "\n",
    "from copy import deepcopy"
   ]
  },
  {
   "cell_type": "code",
   "execution_count": 11,
   "metadata": {},
   "outputs": [],
   "source": [
    "cbow_embedding_dict = load_word_embedding_model('models/word_embedding/cbow_model.txt')\n",
    "X_cbow = deepcopy(X_test)\n",
    "X_cbow = add_word_embedding2feature(cbow_embedding_dict, X_cbow)\n",
    "\n",
    "X_val_cbow = deepcopy(X_val)\n",
    "X_val_cbow = add_word_embedding2feature(cbow_embedding_dict, X_val_cbow)\n",
    "\n",
    "del cbow_embedding_dict"
   ]
  },
  {
   "cell_type": "code",
   "execution_count": 12,
   "metadata": {},
   "outputs": [],
   "source": [
    "sg_embedding_dict = load_word_embedding_model('models/word_embedding/sg_model.txt')\n",
    "X_sg = deepcopy(X_test)\n",
    "X_sg = add_word_embedding2feature(sg_embedding_dict, X_sg)\n",
    "\n",
    "X_val_sg = deepcopy(X_val)\n",
    "X_val_sg = add_word_embedding2feature(sg_embedding_dict, X_val_sg)\n",
    "\n",
    "del sg_embedding_dict"
   ]
  },
  {
   "cell_type": "code",
   "execution_count": 13,
   "metadata": {},
   "outputs": [],
   "source": [
    "fasttext_embedding_dict = load_word_embedding_model('models/word_embedding/fasttext_model.txt')\n",
    "X_fasttext = deepcopy(X_test)\n",
    "X_fasttext = add_word_embedding2feature(fasttext_embedding_dict, X_fasttext)\n",
    "\n",
    "X_val_fasttext = deepcopy(X_val)\n",
    "X_val_fasttext = add_word_embedding2feature(fasttext_embedding_dict, X_val_fasttext)\n",
    "\n",
    "del fasttext_embedding_dict"
   ]
  },
  {
   "cell_type": "code",
   "execution_count": 14,
   "metadata": {},
   "outputs": [],
   "source": [
    "del X_test"
   ]
  },
  {
   "cell_type": "code",
   "execution_count": 15,
   "metadata": {},
   "outputs": [
    {
     "data": {
      "text/plain": [
       "{'word.lower()': 'soccer',\n",
       " 'word[-3:]': 'CER',\n",
       " 'word[-2:]': 'ER',\n",
       " 'word[:2]': 'SO',\n",
       " 'word[:3]': 'SOC',\n",
       " 'word.istitle()': False,\n",
       " 'word.isdigit()': False,\n",
       " 'word.isupper()': True,\n",
       " 'postag': 'NN',\n",
       " 'postag[:2]': 'NN',\n",
       " 'pos_front': 0,\n",
       " 'pos_end': 419,\n",
       " 'BOS': True,\n",
       " '+1:word.lower()': '-',\n",
       " '+1:word.istitle()': False,\n",
       " '+1:word.isupper()': False,\n",
       " '+1:postag': ':',\n",
       " '+1:postag[:2]': ':',\n",
       " 'w1': 1.576941,\n",
       " 'w2': -2.1714623,\n",
       " 'w3': -1.0200785,\n",
       " 'w4': -1.5237675,\n",
       " 'w5': 1.7636915,\n",
       " 'w6': 3.1906004,\n",
       " 'w7': -2.6801944,\n",
       " 'w8': -0.03286817,\n",
       " 'w9': 2.877698,\n",
       " 'w10': -2.67781,\n",
       " 'w11': -2.0102458,\n",
       " 'w12': 0.09859429,\n",
       " 'w13': 0.6865189,\n",
       " 'w14': -0.08337563,\n",
       " 'w15': -3.2216864,\n",
       " 'w16': 0.55069566,\n",
       " 'w17': -3.327653,\n",
       " 'w18': -2.3479667,\n",
       " 'w19': -1.281957,\n",
       " 'w20': 0.5317431,\n",
       " 'w21': -1.3012091,\n",
       " 'w22': 0.8570002,\n",
       " 'w23': 0.1130651,\n",
       " 'w24': -2.905357,\n",
       " 'w25': 0.43759724,\n",
       " 'w26': -0.42849925,\n",
       " 'w27': -1.0062445,\n",
       " 'w28': 0.05757309,\n",
       " 'w29': -0.93642056,\n",
       " 'w30': -0.35310736,\n",
       " 'w31': 0.38900128,\n",
       " 'w32': 0.38534984,\n",
       " 'w33': 0.11517016,\n",
       " 'w34': 1.2711197,\n",
       " 'w35': 0.14566615,\n",
       " 'w36': 0.7416212,\n",
       " 'w37': -1.3766872,\n",
       " 'w38': 1.2761275,\n",
       " 'w39': -1.6676826,\n",
       " 'w40': -1.5066537,\n",
       " 'w41': 0.45269066,\n",
       " 'w42': -0.776439,\n",
       " 'w43': 1.321283,\n",
       " 'w44': 1.1507329,\n",
       " 'w45': 0.17697681,\n",
       " 'w46': -0.7755163,\n",
       " 'w47': 4.533995,\n",
       " 'w48': 1.6188179,\n",
       " 'w49': 3.4408896,\n",
       " 'w50': 1.5741646}"
      ]
     },
     "execution_count": 15,
     "metadata": {},
     "output_type": "execute_result"
    }
   ],
   "source": [
    "X_cbow[0][0]"
   ]
  },
  {
   "cell_type": "code",
   "execution_count": 16,
   "metadata": {},
   "outputs": [
    {
     "data": {
      "text/plain": [
       "{'word.lower()': 'soccer',\n",
       " 'word[-3:]': 'CER',\n",
       " 'word[-2:]': 'ER',\n",
       " 'word[:2]': 'SO',\n",
       " 'word[:3]': 'SOC',\n",
       " 'word.istitle()': False,\n",
       " 'word.isdigit()': False,\n",
       " 'word.isupper()': True,\n",
       " 'postag': 'NN',\n",
       " 'postag[:2]': 'NN',\n",
       " 'pos_front': 0,\n",
       " 'pos_end': 419,\n",
       " 'BOS': True,\n",
       " '+1:word.lower()': '-',\n",
       " '+1:word.istitle()': False,\n",
       " '+1:word.isupper()': False,\n",
       " '+1:postag': ':',\n",
       " '+1:postag[:2]': ':',\n",
       " 'w1': 0.28394398,\n",
       " 'w2': -0.28532466,\n",
       " 'w3': -1.124571,\n",
       " 'w4': -0.4304585,\n",
       " 'w5': 0.004001268,\n",
       " 'w6': 0.93360204,\n",
       " 'w7': -0.20814724,\n",
       " 'w8': 0.07862179,\n",
       " 'w9': -0.40074977,\n",
       " 'w10': -1.340784,\n",
       " 'w11': 0.057163946,\n",
       " 'w12': -0.020577392,\n",
       " 'w13': 0.47397217,\n",
       " 'w14': 0.5548938,\n",
       " 'w15': -0.6635612,\n",
       " 'w16': 0.06970437,\n",
       " 'w17': -0.064371176,\n",
       " 'w18': 0.67999274,\n",
       " 'w19': -0.8801622,\n",
       " 'w20': -0.50367016,\n",
       " 'w21': -0.12410352,\n",
       " 'w22': -0.41909856,\n",
       " 'w23': -1.0188217,\n",
       " 'w24': -0.41626242,\n",
       " 'w25': 0.7018295,\n",
       " 'w26': 0.07536637,\n",
       " 'w27': -1.5404706,\n",
       " 'w28': -0.26609275,\n",
       " 'w29': -0.597601,\n",
       " 'w30': 0.3595494,\n",
       " 'w31': 0.32111686,\n",
       " 'w32': 0.1671466,\n",
       " 'w33': -1.2935119,\n",
       " 'w34': -0.10190946,\n",
       " 'w35': -0.040654477,\n",
       " 'w36': 0.42589572,\n",
       " 'w37': -0.6480181,\n",
       " 'w38': -0.10883352,\n",
       " 'w39': -0.70189714,\n",
       " 'w40': -0.81613845,\n",
       " 'w41': -0.14890702,\n",
       " 'w42': -0.007979474,\n",
       " 'w43': 1.4039147,\n",
       " 'w44': -0.15043786,\n",
       " 'w45': 0.2929744,\n",
       " 'w46': -0.4907781,\n",
       " 'w47': 0.17084268,\n",
       " 'w48': 0.101894476,\n",
       " 'w49': 0.94584376,\n",
       " 'w50': -0.20120005}"
      ]
     },
     "execution_count": 16,
     "metadata": {},
     "output_type": "execute_result"
    }
   ],
   "source": [
    "X_sg[0][0]"
   ]
  },
  {
   "cell_type": "code",
   "execution_count": 17,
   "metadata": {},
   "outputs": [
    {
     "data": {
      "text/plain": [
       "{'word.lower()': 'soccer',\n",
       " 'word[-3:]': 'CER',\n",
       " 'word[-2:]': 'ER',\n",
       " 'word[:2]': 'SO',\n",
       " 'word[:3]': 'SOC',\n",
       " 'word.istitle()': False,\n",
       " 'word.isdigit()': False,\n",
       " 'word.isupper()': True,\n",
       " 'postag': 'NN',\n",
       " 'postag[:2]': 'NN',\n",
       " 'pos_front': 0,\n",
       " 'pos_end': 419,\n",
       " 'BOS': True,\n",
       " '+1:word.lower()': '-',\n",
       " '+1:word.istitle()': False,\n",
       " '+1:word.isupper()': False,\n",
       " '+1:postag': ':',\n",
       " '+1:postag[:2]': ':',\n",
       " 'w1': 0.56632817,\n",
       " 'w2': -0.010743908,\n",
       " 'w3': 0.28308353,\n",
       " 'w4': 0.20814908,\n",
       " 'w5': 0.13549374,\n",
       " 'w6': -0.5231039,\n",
       " 'w7': -0.12281269,\n",
       " 'w8': -1.0767348,\n",
       " 'w9': 0.42689112,\n",
       " 'w10': -0.038685467,\n",
       " 'w11': 0.0714525,\n",
       " 'w12': 0.34661636,\n",
       " 'w13': 0.070119075,\n",
       " 'w14': 0.032985326,\n",
       " 'w15': 0.24295594,\n",
       " 'w16': 0.013151563,\n",
       " 'w17': -0.6915679,\n",
       " 'w18': -0.13650842,\n",
       " 'w19': -0.3612757,\n",
       " 'w20': 0.05955878,\n",
       " 'w21': -0.686944,\n",
       " 'w22': -0.10490251,\n",
       " 'w23': -0.29388943,\n",
       " 'w24': -0.048325066,\n",
       " 'w25': -0.09750202,\n",
       " 'w26': 0.010376323,\n",
       " 'w27': -0.20131382,\n",
       " 'w28': -1.0787536,\n",
       " 'w29': 0.1044753,\n",
       " 'w30': 0.1301,\n",
       " 'w31': 0.50772935,\n",
       " 'w32': 0.3426513,\n",
       " 'w33': -0.1735277,\n",
       " 'w34': -0.24546553,\n",
       " 'w35': 0.33136925,\n",
       " 'w36': 0.19708724,\n",
       " 'w37': 0.8045103,\n",
       " 'w38': -0.38824788,\n",
       " 'w39': -0.5856301,\n",
       " 'w40': 0.46796367,\n",
       " 'w41': 0.008220086,\n",
       " 'w42': -0.4368616,\n",
       " 'w43': -0.14143136,\n",
       " 'w44': -0.1815163,\n",
       " 'w45': 0.14156018,\n",
       " 'w46': -0.6847945,\n",
       " 'w47': 0.9067146,\n",
       " 'w48': 0.072201364,\n",
       " 'w49': -0.33564702,\n",
       " 'w50': 0.21494344}"
      ]
     },
     "execution_count": 17,
     "metadata": {},
     "output_type": "execute_result"
    }
   ],
   "source": [
    "X_fasttext[0][0]"
   ]
  },
  {
   "cell_type": "markdown",
   "metadata": {},
   "source": [
    "# Load Model"
   ]
  },
  {
   "cell_type": "code",
   "execution_count": 18,
   "metadata": {},
   "outputs": [],
   "source": [
    "import pickle"
   ]
  },
  {
   "cell_type": "code",
   "execution_count": 19,
   "metadata": {},
   "outputs": [],
   "source": [
    "filename_cbow = 'temp_crf_cbow.sav'\n",
    "loaded_model_cbow = pickle.load(open(filename_cbow, 'rb'))\n",
    "\n",
    "filename_sg = 'temp_crf_sg.sav'\n",
    "loaded_model_sg = pickle.load(open(filename_sg, 'rb'))\n",
    "\n",
    "filename_fasttext = 'temp_crf_fasttext.sav'\n",
    "loaded_model_fasttext = pickle.load(open(filename_fasttext, 'rb'))"
   ]
  },
  {
   "cell_type": "code",
   "execution_count": 20,
   "metadata": {},
   "outputs": [
    {
     "data": {
      "text/plain": [
       "['B-ORG', 'B-MISC', 'B-PER', 'I-PER', 'B-LOC', 'I-ORG', 'I-MISC', 'I-LOC']"
      ]
     },
     "execution_count": 20,
     "metadata": {},
     "output_type": "execute_result"
    }
   ],
   "source": [
    "labels = list(loaded_model_cbow.classes_)\n",
    "labels.remove('O')\n",
    "labels"
   ]
  },
  {
   "cell_type": "code",
   "execution_count": 21,
   "metadata": {},
   "outputs": [],
   "source": [
    "f1_scorer = make_scorer(metrics.flat_f1_score,\n",
    "                        average='weighted', labels=labels)"
   ]
  },
  {
   "cell_type": "markdown",
   "metadata": {},
   "source": [
    "# Cross Val Score"
   ]
  },
  {
   "cell_type": "code",
   "execution_count": 22,
   "metadata": {},
   "outputs": [
    {
     "name": "stdout",
     "output_type": "stream",
     "text": [
      "[0.8262092  0.69083431 0.82868015 0.81987289 0.69118589]\n",
      "0.7713564867348932\n"
     ]
    }
   ],
   "source": [
    "x_val_score_cbow = cross_val_score(loaded_model_cbow, X_val_cbow, y_val, cv=5, scoring=f1_scorer)\n",
    "print(x_val_score_cbow)\n",
    "print(x_val_score_cbow.mean())"
   ]
  },
  {
   "cell_type": "code",
   "execution_count": 23,
   "metadata": {},
   "outputs": [
    {
     "name": "stdout",
     "output_type": "stream",
     "text": [
      "[0.81696421 0.67704105 0.82677009 0.81192716 0.68955985]\n",
      "0.7644524713996107\n"
     ]
    }
   ],
   "source": [
    "x_val_score_sg = cross_val_score(loaded_model_sg, X_val_sg, y_val, cv=5, scoring=f1_scorer)\n",
    "print(x_val_score_sg)\n",
    "print(x_val_score_sg.mean())"
   ]
  },
  {
   "cell_type": "code",
   "execution_count": 24,
   "metadata": {},
   "outputs": [
    {
     "name": "stdout",
     "output_type": "stream",
     "text": [
      "[0.81848733 0.68621914 0.83599056 0.82169773 0.6925257 ]\n",
      "0.7709840935136203\n"
     ]
    }
   ],
   "source": [
    "x_val_score_fasttext = cross_val_score(loaded_model_fasttext, X_val_fasttext, y_val, cv=5, scoring=f1_scorer)\n",
    "print(x_val_score_fasttext)\n",
    "print(x_val_score_fasttext.mean())"
   ]
  },
  {
   "cell_type": "markdown",
   "metadata": {},
   "source": [
    "# CBOW"
   ]
  },
  {
   "cell_type": "code",
   "execution_count": 25,
   "metadata": {},
   "outputs": [
    {
     "data": {
      "text/plain": [
       "0.8186905218167554"
      ]
     },
     "execution_count": 25,
     "metadata": {},
     "output_type": "execute_result"
    }
   ],
   "source": [
    "y_pred_cbow = loaded_model_cbow.predict(X_cbow)\n",
    "metrics.flat_f1_score(y_test, y_pred_cbow,\n",
    "                      average='weighted', labels=labels)"
   ]
  },
  {
   "cell_type": "markdown",
   "metadata": {},
   "source": [
    "# SG"
   ]
  },
  {
   "cell_type": "code",
   "execution_count": 26,
   "metadata": {},
   "outputs": [
    {
     "data": {
      "text/plain": [
       "0.8079198001068413"
      ]
     },
     "execution_count": 26,
     "metadata": {},
     "output_type": "execute_result"
    }
   ],
   "source": [
    "y_pred_sg = loaded_model_sg.predict(X_sg)\n",
    "metrics.flat_f1_score(y_test, y_pred_sg,\n",
    "                      average='weighted', labels=labels)"
   ]
  },
  {
   "cell_type": "markdown",
   "metadata": {},
   "source": [
    "# FastText"
   ]
  },
  {
   "cell_type": "code",
   "execution_count": 27,
   "metadata": {},
   "outputs": [
    {
     "data": {
      "text/plain": [
       "0.8147009093053825"
      ]
     },
     "execution_count": 27,
     "metadata": {},
     "output_type": "execute_result"
    }
   ],
   "source": [
    "y_pred_fasttext = loaded_model_fasttext.predict(X_fasttext)\n",
    "metrics.flat_f1_score(y_test, y_pred_fasttext,\n",
    "                      average='weighted', labels=labels)"
   ]
  }
 ],
 "metadata": {
  "kernelspec": {
   "display_name": "Python [default]",
   "language": "python",
   "name": "python3"
  },
  "language_info": {
   "codemirror_mode": {
    "name": "ipython",
    "version": 3
   },
   "file_extension": ".py",
   "mimetype": "text/x-python",
   "name": "python",
   "nbconvert_exporter": "python",
   "pygments_lexer": "ipython3",
   "version": "3.6.5"
  }
 },
 "nbformat": 4,
 "nbformat_minor": 2
}

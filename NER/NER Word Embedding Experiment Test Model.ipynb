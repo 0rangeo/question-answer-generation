{
 "cells": [
  {
   "cell_type": "code",
   "execution_count": 1,
   "metadata": {},
   "outputs": [
    {
     "name": "stderr",
     "output_type": "stream",
     "text": [
      "/home/agus/anaconda3/envs/basic/lib/python3.6/site-packages/sklearn/cross_validation.py:41: DeprecationWarning: This module was deprecated in version 0.18 in favor of the model_selection module into which all the refactored classes and functions are moved. Also note that the interface of the new CV iterators are different from that of this module. This module will be removed in 0.20.\n",
      "  \"This module will be removed in 0.20.\", DeprecationWarning)\n",
      "/home/agus/anaconda3/envs/basic/lib/python3.6/site-packages/sklearn/grid_search.py:42: DeprecationWarning: This module was deprecated in version 0.18 in favor of the model_selection module into which all the refactored classes and functions are moved. This module will be removed in 0.20.\n",
      "  DeprecationWarning)\n"
     ]
    }
   ],
   "source": [
    "import sklearn_crfsuite\n",
    "from sklearn_crfsuite import scorers\n",
    "from sklearn_crfsuite import metrics\n",
    "\n",
    "from nltk.tag.stanford import StanfordPOSTagger\n",
    "from stanford_postagger.stanford_wrapper import StanfordPOSTagger as StanfordPOSTaggerWrapper\n",
    "\n",
    "from sklearn.metrics import make_scorer\n",
    "from sklearn.model_selection import cross_val_score\n",
    "\n",
    "import scipy\n",
    "from sklearn.grid_search import RandomizedSearchCV"
   ]
  },
  {
   "cell_type": "code",
   "execution_count": 2,
   "metadata": {},
   "outputs": [],
   "source": [
    "%load_ext autoreload\n",
    "%autoreload 2"
   ]
  },
  {
   "cell_type": "markdown",
   "metadata": {},
   "source": [
    "# Read Dataset"
   ]
  },
  {
   "cell_type": "code",
   "execution_count": 3,
   "metadata": {},
   "outputs": [],
   "source": [
    "f = open('datasets/conll2003/train.txt', 'r')\n",
    "lines = f.readlines()\n",
    "f.close()\n",
    "\n",
    "del lines[0]\n",
    "del lines[0]\n",
    "\n",
    "dataset = []\n",
    "sentence = []\n",
    "for line in lines:\n",
    "    splitter = line.strip().split(' ')\n",
    "    if splitter[0] == '':\n",
    "        continue\n",
    "    elif (splitter[0] == '-DOCSTART-'):\n",
    "        dataset.append(sentence)\n",
    "        sentence = []\n",
    "    else:\n",
    "        token = splitter[0]\n",
    "        tag = splitter[3]\n",
    "        sentence.append((token, tag))"
   ]
  },
  {
   "cell_type": "code",
   "execution_count": 4,
   "metadata": {},
   "outputs": [],
   "source": [
    "def convert_conlltxt2dataset(filename):\n",
    "    f = open(filename, 'r')\n",
    "    lines = f.readlines()\n",
    "    f.close()\n",
    "    \n",
    "    del lines[0]\n",
    "    del lines[0]\n",
    "    \n",
    "    dataset = []\n",
    "    sentence = []\n",
    "    for line in lines:\n",
    "        splitter = line.strip().split(' ')\n",
    "        if splitter[0] == '':\n",
    "            continue\n",
    "        elif (splitter[0] == '-DOCSTART-'):\n",
    "            dataset.append(sentence)\n",
    "            sentence = []\n",
    "        else:\n",
    "            token = splitter[0]\n",
    "            tag = splitter[3]\n",
    "            sentence.append((token, tag))\n",
    "    return dataset"
   ]
  },
  {
   "cell_type": "code",
   "execution_count": 5,
   "metadata": {},
   "outputs": [],
   "source": [
    "validation_dataset = convert_conlltxt2dataset('datasets/conll2003/valid.txt')\n",
    "test_dataset = convert_conlltxt2dataset('datasets/conll2003/test.txt')"
   ]
  },
  {
   "cell_type": "markdown",
   "metadata": {},
   "source": [
    "# Add Postag to Dataset"
   ]
  },
  {
   "cell_type": "markdown",
   "metadata": {},
   "source": [
    "## Example"
   ]
  },
  {
   "cell_type": "code",
   "execution_count": 6,
   "metadata": {},
   "outputs": [
    {
     "data": {
      "text/plain": [
       "[('+44', 'CD'), ('171', 'CD')]"
      ]
     },
     "execution_count": 6,
     "metadata": {},
     "output_type": "execute_result"
    }
   ],
   "source": [
    "postagger = StanfordPOSTaggerWrapper()\n",
    "postag = postagger.tag('+44 171')\n",
    "postag"
   ]
  },
  {
   "cell_type": "code",
   "execution_count": 7,
   "metadata": {
    "scrolled": true
   },
   "outputs": [],
   "source": [
    "def add_postag2dataset(dataset):\n",
    "    postagger = StanfordPOSTaggerWrapper()\n",
    "    dataset_with_postag = []\n",
    "    for sent in dataset:\n",
    "        postagged_sent = []\n",
    "        for index, (token, tag) in enumerate(sent):\n",
    "            postagged_token = postagger.tag(token)\n",
    "            postagged_sent.append((token, postagged_token[0][1], tag))\n",
    "        dataset_with_postag.append(postagged_sent)\n",
    "        \n",
    "    return dataset_with_postag\n",
    "\n",
    "postagged_validation_dataset = add_postag2dataset(validation_dataset)\n",
    "postagged_test_dataset = add_postag2dataset(test_dataset)\n",
    "\n",
    "# Delete Unused Dataset\n",
    "del validation_dataset\n",
    "del test_dataset"
   ]
  },
  {
   "cell_type": "markdown",
   "metadata": {},
   "source": [
    "# Extract Feature"
   ]
  },
  {
   "cell_type": "code",
   "execution_count": 8,
   "metadata": {},
   "outputs": [],
   "source": [
    "def word2features(sent, i):\n",
    "    word = sent[i][0]\n",
    "    postag = sent[i][1]\n",
    "\n",
    "    # Ortographic Feature, Word, POSTag & N-Gram\n",
    "    features = {\n",
    "        'word.lower()': word.lower(),\n",
    "        'word[-3:]': word[-3:],\n",
    "        'word[-2:]': word[-2:],\n",
    "        'word[:2]': word[:2],\n",
    "        'word[:3]': word[:3],\n",
    "        'word.istitle()': word.istitle(),\n",
    "        'word.isdigit()': word.isdigit(),\n",
    "        'word.isupper()': word.isupper(),\n",
    "        'postag': postag,\n",
    "        'postag[:2]': postag[:2]\n",
    "    }\n",
    "    \n",
    "    # Position\n",
    "    features.update({\n",
    "        'pos_front': i,\n",
    "        'pos_end': len(sent) - i\n",
    "    })\n",
    "    \n",
    "    # Bag Of Words\n",
    "    if i > 0:\n",
    "        word1 = sent[i-1][0]\n",
    "        postag1 = sent[i-1][1]\n",
    "        features.update({\n",
    "            '-1:word.lower()': word1.lower(),\n",
    "            '-1:word.istitle()': word1.istitle(),\n",
    "            '-1:word.isupper()': word1.isupper(),\n",
    "            '-1:postag': postag1,\n",
    "            '-1:postag[:2]': postag1[:2],\n",
    "        })\n",
    "    else:\n",
    "        features['BOS'] = True\n",
    "        \n",
    "    if i < len(sent) - 1:\n",
    "        word1 = sent[i+1][0]\n",
    "        postag1 = sent[i+1][1]\n",
    "        features.update({\n",
    "            '+1:word.lower()': word1.lower(),\n",
    "            '+1:word.istitle()': word1.istitle(),\n",
    "            '+1:word.isupper()': word1.isupper(),\n",
    "            '+1:postag': postag1,\n",
    "            '+1:postag[:2]': postag1[:2],\n",
    "        })\n",
    "    else:\n",
    "        features['EOS'] = True\n",
    "\n",
    "    return features\n",
    "\n",
    "def sent2features(sent):\n",
    "    return [word2features(sent, i) for i in range(len(sent))]\n",
    "\n",
    "def sent2postag(sent):\n",
    "    return [postag for token, postag, label in sent]\n",
    "\n",
    "def sent2labels(sent):\n",
    "    return [label for token, postag, label in sent]\n",
    "\n",
    "def sent2tokens(sent):\n",
    "    return [token for token, postag, label in sent]"
   ]
  },
  {
   "cell_type": "markdown",
   "metadata": {},
   "source": [
    "# Feature Extraction"
   ]
  },
  {
   "cell_type": "code",
   "execution_count": 9,
   "metadata": {},
   "outputs": [],
   "source": [
    "X_val = [sent2features(sent) for sent in postagged_validation_dataset]\n",
    "y_val = [sent2labels(sent) for sent in postagged_validation_dataset]\n",
    "\n",
    "X_test = [sent2features(sent) for sent in postagged_test_dataset]\n",
    "y_test = [sent2labels(sent) for sent in postagged_test_dataset]\n",
    "\n",
    "del postagged_validation_dataset\n",
    "del postagged_test_dataset"
   ]
  },
  {
   "cell_type": "markdown",
   "metadata": {},
   "source": [
    "# Load Word Embedding and Add to The Feature"
   ]
  },
  {
   "cell_type": "code",
   "execution_count": 10,
   "metadata": {},
   "outputs": [],
   "source": [
    "def load_word_embedding_model(filename):\n",
    "    f = open(filename, 'r', encoding='utf-8')\n",
    "    lines = f.readlines()\n",
    "    del lines[0]\n",
    "\n",
    "    embedding_dict = {}\n",
    "    counter = 0\n",
    "    for line in lines:\n",
    "        line = line.strip()\n",
    "        arr = line.split(' ')\n",
    "        word = arr[0].lower()\n",
    "        vectors = [float(x) for x in arr[1:]]\n",
    "        embedding_dict[word] = vectors\n",
    "    return embedding_dict\n",
    "\n",
    "def add_word_embedding2feature(embedding_dict, feature):\n",
    "    VECTOR_SPACE_SIZE = 50\n",
    "    for i, sentence in enumerate(feature):\n",
    "        for j, token in enumerate(sentence):\n",
    "            word = token['word.lower()']\n",
    "            vector = []\n",
    "            if word in embedding_dict:\n",
    "                vector = embedding_dict[word]\n",
    "            else:\n",
    "                vector = [0 for i in range(VECTOR_SPACE_SIZE)]\n",
    "            for k in range(len(vector)):\n",
    "                wk = 'w{}'.format(k+1)\n",
    "                feature[i][j][wk] = vector[k]\n",
    "    return feature\n",
    "\n",
    "from copy import deepcopy"
   ]
  },
  {
   "cell_type": "code",
   "execution_count": 11,
   "metadata": {},
   "outputs": [],
   "source": [
    "cbow_embedding_dict = load_word_embedding_model('models/word_embedding/cbow_model.txt')\n",
    "X_cbow = deepcopy(X_test)\n",
    "X_cbow = add_word_embedding2feature(cbow_embedding_dict, X_cbow)\n",
    "\n",
    "del cbow_embedding_dict"
   ]
  },
  {
   "cell_type": "code",
   "execution_count": 12,
   "metadata": {},
   "outputs": [],
   "source": [
    "sg_embedding_dict = load_word_embedding_model('models/word_embedding/sg_model.txt')\n",
    "X_sg = deepcopy(X_test)\n",
    "X_sg = add_word_embedding2feature(sg_embedding_dict, X_sg)\n",
    "\n",
    "del sg_embedding_dict"
   ]
  },
  {
   "cell_type": "code",
   "execution_count": 13,
   "metadata": {},
   "outputs": [],
   "source": [
    "fasttext_embedding_dict = load_word_embedding_model('models/word_embedding/fasttext_model.txt')\n",
    "X_fasttext = deepcopy(X_test)\n",
    "X_fasttext = add_word_embedding2feature(fasttext_embedding_dict, X_fasttext)\n",
    "\n",
    "del fasttext_embedding_dict"
   ]
  },
  {
   "cell_type": "code",
   "execution_count": 14,
   "metadata": {},
   "outputs": [],
   "source": [
    "del X_test"
   ]
  },
  {
   "cell_type": "code",
   "execution_count": 15,
   "metadata": {},
   "outputs": [
    {
     "data": {
      "text/plain": [
       "{'word.lower()': 'soccer',\n",
       " 'word[-3:]': 'CER',\n",
       " 'word[-2:]': 'ER',\n",
       " 'word[:2]': 'SO',\n",
       " 'word[:3]': 'SOC',\n",
       " 'word.istitle()': False,\n",
       " 'word.isdigit()': False,\n",
       " 'word.isupper()': True,\n",
       " 'postag': 'NN',\n",
       " 'postag[:2]': 'NN',\n",
       " 'pos_front': 0,\n",
       " 'pos_end': 419,\n",
       " 'BOS': True,\n",
       " '+1:word.lower()': '-',\n",
       " '+1:word.istitle()': False,\n",
       " '+1:word.isupper()': False,\n",
       " '+1:postag': ':',\n",
       " '+1:postag[:2]': ':',\n",
       " 'w1': 0.33895117,\n",
       " 'w2': -0.014671952,\n",
       " 'w3': 0.12068345,\n",
       " 'w4': 1.0225383,\n",
       " 'w5': -0.053509504,\n",
       " 'w6': 0.34612843,\n",
       " 'w7': -0.08877626,\n",
       " 'w8': -0.060150824,\n",
       " 'w9': 1.2847248,\n",
       " 'w10': -0.11388345,\n",
       " 'w11': -0.6135935,\n",
       " 'w12': -0.49278504,\n",
       " 'w13': 0.39436784,\n",
       " 'w14': -0.073285446,\n",
       " 'w15': 0.11112971,\n",
       " 'w16': -0.22777088,\n",
       " 'w17': 0.16231729,\n",
       " 'w18': 0.4461143,\n",
       " 'w19': 0.0011776277,\n",
       " 'w20': -0.11573486,\n",
       " 'w21': 0.08180463,\n",
       " 'w22': -0.5032938,\n",
       " 'w23': 0.73418355,\n",
       " 'w24': -0.14306991,\n",
       " 'w25': 0.90126806,\n",
       " 'w26': -0.18855056,\n",
       " 'w27': -0.63122505,\n",
       " 'w28': 0.0043563913,\n",
       " 'w29': -0.14975902,\n",
       " 'w30': -0.9780282,\n",
       " 'w31': -0.00782808,\n",
       " 'w32': 0.35202765,\n",
       " 'w33': 0.44302633,\n",
       " 'w34': 0.4539087,\n",
       " 'w35': 0.98547196,\n",
       " 'w36': 0.52136505,\n",
       " 'w37': 0.63486505,\n",
       " 'w38': -0.08409315,\n",
       " 'w39': -0.05539639,\n",
       " 'w40': 0.76149315,\n",
       " 'w41': 0.44025034,\n",
       " 'w42': -0.5438097,\n",
       " 'w43': 0.4270355,\n",
       " 'w44': 0.30340868,\n",
       " 'w45': 0.18381467,\n",
       " 'w46': -0.86345816,\n",
       " 'w47': 0.86491656,\n",
       " 'w48': -0.07449953,\n",
       " 'w49': 0.12098532,\n",
       " 'w50': -0.2007512}"
      ]
     },
     "execution_count": 15,
     "metadata": {},
     "output_type": "execute_result"
    }
   ],
   "source": [
    "X_cbow[0][0]"
   ]
  },
  {
   "cell_type": "code",
   "execution_count": 16,
   "metadata": {},
   "outputs": [
    {
     "data": {
      "text/plain": [
       "{'word.lower()': 'soccer',\n",
       " 'word[-3:]': 'CER',\n",
       " 'word[-2:]': 'ER',\n",
       " 'word[:2]': 'SO',\n",
       " 'word[:3]': 'SOC',\n",
       " 'word.istitle()': False,\n",
       " 'word.isdigit()': False,\n",
       " 'word.isupper()': True,\n",
       " 'postag': 'NN',\n",
       " 'postag[:2]': 'NN',\n",
       " 'pos_front': 0,\n",
       " 'pos_end': 419,\n",
       " 'BOS': True,\n",
       " '+1:word.lower()': '-',\n",
       " '+1:word.istitle()': False,\n",
       " '+1:word.isupper()': False,\n",
       " '+1:postag': ':',\n",
       " '+1:postag[:2]': ':',\n",
       " 'w1': 0.053311832,\n",
       " 'w2': 0.13628335,\n",
       " 'w3': -0.36908904,\n",
       " 'w4': 0.6710917,\n",
       " 'w5': -0.043364376,\n",
       " 'w6': -0.2286375,\n",
       " 'w7': -0.04323148,\n",
       " 'w8': 0.08788449,\n",
       " 'w9': 0.8637854,\n",
       " 'w10': -0.38204917,\n",
       " 'w11': -0.26855293,\n",
       " 'w12': -0.4236501,\n",
       " 'w13': 0.5600748,\n",
       " 'w14': 0.09522313,\n",
       " 'w15': 0.43043205,\n",
       " 'w16': -0.48882216,\n",
       " 'w17': 0.064819306,\n",
       " 'w18': 0.07685631,\n",
       " 'w19': 0.052390438,\n",
       " 'w20': -0.6501731,\n",
       " 'w21': 0.15192252,\n",
       " 'w22': -0.2691555,\n",
       " 'w23': 0.5165376,\n",
       " 'w24': -0.058252573,\n",
       " 'w25': 0.8312122,\n",
       " 'w26': -0.0033740667,\n",
       " 'w27': 0.19275776,\n",
       " 'w28': 0.039960757,\n",
       " 'w29': 0.21826,\n",
       " 'w30': -0.51947653,\n",
       " 'w31': 0.6306479,\n",
       " 'w32': -0.07078929,\n",
       " 'w33': 0.26231614,\n",
       " 'w34': 0.2692005,\n",
       " 'w35': 0.7554637,\n",
       " 'w36': 0.13480224,\n",
       " 'w37': 0.5605186,\n",
       " 'w38': 0.15861775,\n",
       " 'w39': -0.719286,\n",
       " 'w40': 0.2913788,\n",
       " 'w41': -0.113106444,\n",
       " 'w42': -0.48628896,\n",
       " 'w43': 0.27406332,\n",
       " 'w44': -0.36729875,\n",
       " 'w45': -0.017137077,\n",
       " 'w46': -0.35427272,\n",
       " 'w47': 0.1144053,\n",
       " 'w48': -0.39965972,\n",
       " 'w49': 0.022461843,\n",
       " 'w50': -0.47517276}"
      ]
     },
     "execution_count": 16,
     "metadata": {},
     "output_type": "execute_result"
    }
   ],
   "source": [
    "X_sg[0][0]"
   ]
  },
  {
   "cell_type": "code",
   "execution_count": 17,
   "metadata": {},
   "outputs": [
    {
     "data": {
      "text/plain": [
       "{'word.lower()': 'soccer',\n",
       " 'word[-3:]': 'CER',\n",
       " 'word[-2:]': 'ER',\n",
       " 'word[:2]': 'SO',\n",
       " 'word[:3]': 'SOC',\n",
       " 'word.istitle()': False,\n",
       " 'word.isdigit()': False,\n",
       " 'word.isupper()': True,\n",
       " 'postag': 'NN',\n",
       " 'postag[:2]': 'NN',\n",
       " 'pos_front': 0,\n",
       " 'pos_end': 419,\n",
       " 'BOS': True,\n",
       " '+1:word.lower()': '-',\n",
       " '+1:word.istitle()': False,\n",
       " '+1:word.isupper()': False,\n",
       " '+1:postag': ':',\n",
       " '+1:postag[:2]': ':',\n",
       " 'w1': -0.53241414,\n",
       " 'w2': -0.6670444,\n",
       " 'w3': 0.19736609,\n",
       " 'w4': -0.23998305,\n",
       " 'w5': -0.7144021,\n",
       " 'w6': 0.53846425,\n",
       " 'w7': -0.27698493,\n",
       " 'w8': -0.041880284,\n",
       " 'w9': -0.24590936,\n",
       " 'w10': -0.23515925,\n",
       " 'w11': -0.24975732,\n",
       " 'w12': 0.36505768,\n",
       " 'w13': -0.8391249,\n",
       " 'w14': -0.22660933,\n",
       " 'w15': 0.7303037,\n",
       " 'w16': 0.29804635,\n",
       " 'w17': -0.041736826,\n",
       " 'w18': 0.26564932,\n",
       " 'w19': -0.26180515,\n",
       " 'w20': 0.13123806,\n",
       " 'w21': -0.0027916746,\n",
       " 'w22': -0.21876915,\n",
       " 'w23': 0.25730494,\n",
       " 'w24': 0.015905615,\n",
       " 'w25': 0.13872473,\n",
       " 'w26': 0.4867511,\n",
       " 'w27': 0.16061094,\n",
       " 'w28': 0.30005667,\n",
       " 'w29': 0.28330767,\n",
       " 'w30': 0.16052526,\n",
       " 'w31': -0.028299097,\n",
       " 'w32': 0.036822993,\n",
       " 'w33': -0.44360307,\n",
       " 'w34': -0.4679707,\n",
       " 'w35': 0.5056245,\n",
       " 'w36': -0.33699355,\n",
       " 'w37': 0.17425941,\n",
       " 'w38': -0.47753805,\n",
       " 'w39': -0.24639302,\n",
       " 'w40': 0.6271321,\n",
       " 'w41': -0.07169972,\n",
       " 'w42': -0.64816606,\n",
       " 'w43': -0.5904051,\n",
       " 'w44': 0.4569427,\n",
       " 'w45': -0.48695475,\n",
       " 'w46': -0.21968372,\n",
       " 'w47': -0.3711546,\n",
       " 'w48': 0.21217492,\n",
       " 'w49': -0.13397974,\n",
       " 'w50': -0.086671464}"
      ]
     },
     "execution_count": 17,
     "metadata": {},
     "output_type": "execute_result"
    }
   ],
   "source": [
    "X_fasttext[0][0]"
   ]
  },
  {
   "cell_type": "markdown",
   "metadata": {},
   "source": [
    "# Load Model"
   ]
  },
  {
   "cell_type": "code",
   "execution_count": 18,
   "metadata": {},
   "outputs": [],
   "source": [
    "import pickle"
   ]
  },
  {
   "cell_type": "code",
   "execution_count": 19,
   "metadata": {},
   "outputs": [],
   "source": [
    "filename_cbow = 'temp_crf_cbow.sav'\n",
    "loaded_model_cbow = pickle.load(open(filename_cbow, 'rb'))\n",
    "\n",
    "filename_sg = 'temp_crf_sg.sav'\n",
    "loaded_model_sg = pickle.load(open(filename_sg, 'rb'))\n",
    "\n",
    "filename_fasttext = 'temp_crf_fasttext.sav'\n",
    "loaded_model_fasttext = pickle.load(open(filename_fasttext, 'rb'))"
   ]
  },
  {
   "cell_type": "code",
   "execution_count": 20,
   "metadata": {},
   "outputs": [
    {
     "data": {
      "text/plain": [
       "['B-ORG', 'B-MISC', 'B-PER', 'I-PER', 'B-LOC', 'I-ORG', 'I-MISC', 'I-LOC']"
      ]
     },
     "execution_count": 20,
     "metadata": {},
     "output_type": "execute_result"
    }
   ],
   "source": [
    "labels = list(loaded_model_cbow.classes_)\n",
    "labels.remove('O')\n",
    "labels"
   ]
  },
  {
   "cell_type": "markdown",
   "metadata": {},
   "source": [
    "# CBOW"
   ]
  },
  {
   "cell_type": "code",
   "execution_count": 21,
   "metadata": {},
   "outputs": [
    {
     "data": {
      "text/plain": [
       "0.8113356671266855"
      ]
     },
     "execution_count": 21,
     "metadata": {},
     "output_type": "execute_result"
    }
   ],
   "source": [
    "y_pred_cbow = loaded_model_cbow.predict(X_cbow)\n",
    "metrics.flat_f1_score(y_test, y_pred_cbow,\n",
    "                      average='weighted', labels=labels)"
   ]
  },
  {
   "cell_type": "markdown",
   "metadata": {},
   "source": [
    "# SG"
   ]
  },
  {
   "cell_type": "code",
   "execution_count": 22,
   "metadata": {},
   "outputs": [
    {
     "data": {
      "text/plain": [
       "0.8136969886497679"
      ]
     },
     "execution_count": 22,
     "metadata": {},
     "output_type": "execute_result"
    }
   ],
   "source": [
    "y_pred_sg = loaded_model_sg.predict(X_sg)\n",
    "metrics.flat_f1_score(y_test, y_pred_sg,\n",
    "                      average='weighted', labels=labels)"
   ]
  },
  {
   "cell_type": "markdown",
   "metadata": {},
   "source": [
    "# FastText"
   ]
  },
  {
   "cell_type": "code",
   "execution_count": 23,
   "metadata": {},
   "outputs": [
    {
     "data": {
      "text/plain": [
       "0.8155770941766326"
      ]
     },
     "execution_count": 23,
     "metadata": {},
     "output_type": "execute_result"
    }
   ],
   "source": [
    "y_pred_fasttext = loaded_model_fasttext.predict(X_fasttext)\n",
    "metrics.flat_f1_score(y_test, y_pred_fasttext,\n",
    "                      average='weighted', labels=labels)"
   ]
  }
 ],
 "metadata": {
  "kernelspec": {
   "display_name": "Python [default]",
   "language": "python",
   "name": "python3"
  },
  "language_info": {
   "codemirror_mode": {
    "name": "ipython",
    "version": 3
   },
   "file_extension": ".py",
   "mimetype": "text/x-python",
   "name": "python",
   "nbconvert_exporter": "python",
   "pygments_lexer": "ipython3",
   "version": "3.6.5"
  }
 },
 "nbformat": 4,
 "nbformat_minor": 2
}

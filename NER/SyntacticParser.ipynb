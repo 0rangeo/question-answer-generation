{
 "cells": [
  {
   "cell_type": "markdown",
   "metadata": {},
   "source": [
    "https://gist.github.com/syllog1sm/10343947  \n",
    "https://gist.github.com/Samurais/0dc04f265799731caebf80d9ebde6395  \n",
    "https://explosion.ai/blog/parsing-english-in-python"
   ]
  },
  {
   "cell_type": "code",
   "execution_count": 1,
   "metadata": {},
   "outputs": [],
   "source": [
    "%load_ext autoreload\n",
    "%autoreload 2"
   ]
  },
  {
   "cell_type": "code",
   "execution_count": 2,
   "metadata": {},
   "outputs": [],
   "source": [
    "import random\n",
    "import os\n",
    "\n",
    "from os import path\n",
    "from sys import intern\n",
    "\n",
    "from tqdm import tqdm_notebook as tqdm\n",
    "\n",
    "from syntactic_parser import Parser\n",
    "\n",
    "class DefaultList(list):\n",
    "    def __init__(self, default = None):\n",
    "        self.default = default\n",
    "        list.__init__(self)\n",
    "\n",
    "    def __getitem__(self, index):\n",
    "        try:\n",
    "            return list.__getitem__(self, index)\n",
    "        except IndexError:\n",
    "            return self.default"
   ]
  },
  {
   "cell_type": "code",
   "execution_count": 28,
   "metadata": {},
   "outputs": [],
   "source": [
    "def read_conll(loc):\n",
    "    for sent_str in open(loc, mode='r', encoding='utf-8').read().strip().split('\\n\\n'):\n",
    "        lines = [line.split() for line in sent_str.split('\\n')]\n",
    "        words = DefaultList(''); tags = DefaultList('')\n",
    "        heads = [None]; labels = [None]\n",
    "        for i, (_, word, _, pos, _, _, head, label, _, _) in enumerate(lines):\n",
    "            words.append(word)\n",
    "            #words.append(intern(normalize(word)))\n",
    "            tags.append(pos)\n",
    "            heads.append(int(head) + 1 if head != '-1' else len(lines) + 1)\n",
    "            labels.append(label)\n",
    "        pad_tokens(words); pad_tokens(tags)\n",
    "        yield words, tags, heads, labels\n",
    "        \n",
    "def pad_tokens(tokens):\n",
    "    tokens.insert(0, '<start>')\n",
    "    tokens.append('ROOT')"
   ]
  },
  {
   "cell_type": "code",
   "execution_count": 4,
   "metadata": {},
   "outputs": [],
   "source": [
    "def train(parser, sentences, nr_iter):\n",
    "#     parser.tagger.start_training(sentences)\n",
    "    for itn in range(nr_iter):\n",
    "        corr = 0; total = 0\n",
    "        random.shuffle(sentences)\n",
    "        \n",
    "        t = tqdm(total=len(sentences))\n",
    "        for words, gold_tags, gold_parse, gold_label in sentences:\n",
    "            corr += parser.train_one(itn, words, gold_tags, gold_parse)\n",
    "            if itn < 5:\n",
    "#                 parser.tagger.train_one(words, gold_tags)\n",
    "                pass\n",
    "            total += len(words)\n",
    "            t.update(1)\n",
    "        print('Iter: %s, accuracy: %.3f' % (itn, (float(corr) / float(total))))\n",
    "#         if itn == 4:\n",
    "#             parser.tagger.model.average_weights()\n",
    "    print('Averaging weights')\n",
    "    parser.model.average_weight()"
   ]
  },
  {
   "cell_type": "code",
   "execution_count": 23,
   "metadata": {},
   "outputs": [],
   "source": [
    "def main(model_dir, train_loc, heldout_gold, nr_iter=1):\n",
    "    parser = Parser()\n",
    "    sentences = list(read_conll(train_loc))\n",
    "    train(parser, sentences, nr_iter)\n",
    "    parser.save(model_dir)\n",
    "#     parser = Parser(load_path=model_dir)\n",
    "    \n",
    "#     c = 0\n",
    "#     t = 0\n",
    "#     gold_words, gold_tags, gold_heads, gold_labels = list(read_conll(heldout_gold))\n",
    "#     t1 = time.time()\n",
    "#     for (words, tags), (_, _, gold_heads, gold_labels) in zip(input_sents, gold_sents):\n",
    "#         _, heads = parser.parse(words)\n",
    "#         for i, w in list(enumerate(words))[1:-1]:\n",
    "#             if gold_labels[i] in ('P', 'punct'):\n",
    "#                 continue\n",
    "#             if heads[i] == gold_heads[i]:\n",
    "#                 c += 1\n",
    "#             t += 1\n",
    "#     t2 = time.time()\n",
    "#     print('Parsing took %0.3f ms' % ((t2-t1)*1000.0))\n",
    "#     print(c, t, float(c)/t)"
   ]
  },
  {
   "cell_type": "code",
   "execution_count": null,
   "metadata": {},
   "outputs": [
    {
     "data": {
      "application/vnd.jupyter.widget-view+json": {
       "model_id": "174847acaf5f4773bea85f8e51d9f443",
       "version_major": 2,
       "version_minor": 0
      },
      "text/plain": [
       "A Jupyter Widget"
      ]
     },
     "metadata": {},
     "output_type": "display_data"
    },
    {
     "name": "stdout",
     "output_type": "stream",
     "text": [
      "Iter: 0, accuracy: 0.108\n"
     ]
    },
    {
     "data": {
      "application/vnd.jupyter.widget-view+json": {
       "model_id": "61d81b730e3c419886d8bf66663f2d18",
       "version_major": 2,
       "version_minor": 0
      },
      "text/plain": [
       "A Jupyter Widget"
      ]
     },
     "metadata": {},
     "output_type": "display_data"
    },
    {
     "name": "stdout",
     "output_type": "stream",
     "text": [
      "Iter: 1, accuracy: 0.102\n"
     ]
    },
    {
     "data": {
      "application/vnd.jupyter.widget-view+json": {
       "model_id": "c2dd0087d64c4d0ba051ddd059644122",
       "version_major": 2,
       "version_minor": 0
      },
      "text/plain": [
       "A Jupyter Widget"
      ]
     },
     "metadata": {},
     "output_type": "display_data"
    }
   ],
   "source": [
    "model_dir = path.join(\"tmp\", \"dep_parser.pkl\")\n",
    "train_loc = path.join(\"datasets\", \"UD_English-EWT\", \"en_ewt-ud-train.conll\")\n",
    "heldout_gold = path.join(\"datasets\", \"UD_English-EWT\", \"en_ewt-ud-test.conll\")\n",
    "main(model_dir, train_loc, heldout_gold, 15)"
   ]
  },
  {
   "cell_type": "code",
   "execution_count": null,
   "metadata": {},
   "outputs": [],
   "source": []
  }
 ],
 "metadata": {
  "kernelspec": {
   "display_name": "Python 3",
   "language": "python",
   "name": "python3"
  },
  "language_info": {
   "codemirror_mode": {
    "name": "ipython",
    "version": 3
   },
   "file_extension": ".py",
   "mimetype": "text/x-python",
   "name": "python",
   "nbconvert_exporter": "python",
   "pygments_lexer": "ipython3",
   "version": "3.6.3"
  },
  "latex_envs": {
   "LaTeX_envs_menu_present": true,
   "autoclose": false,
   "autocomplete": true,
   "bibliofile": "biblio.bib",
   "cite_by": "apalike",
   "current_citInitial": 1,
   "eqLabelWithNumbers": true,
   "eqNumInitial": 1,
   "hotkeys": {
    "equation": "Ctrl-E",
    "itemize": "Ctrl-I"
   },
   "labels_anchors": false,
   "latex_user_defs": false,
   "report_style_numbering": false,
   "user_envs_cfg": false
  }
 },
 "nbformat": 4,
 "nbformat_minor": 2
}

{
 "cells": [
  {
   "cell_type": "code",
   "execution_count": 1,
   "metadata": {},
   "outputs": [
    {
     "name": "stderr",
     "output_type": "stream",
     "text": [
      "/home/agus/anaconda3/envs/basic/lib/python3.6/site-packages/sklearn/cross_validation.py:41: DeprecationWarning: This module was deprecated in version 0.18 in favor of the model_selection module into which all the refactored classes and functions are moved. Also note that the interface of the new CV iterators are different from that of this module. This module will be removed in 0.20.\n",
      "  \"This module will be removed in 0.20.\", DeprecationWarning)\n",
      "/home/agus/anaconda3/envs/basic/lib/python3.6/site-packages/sklearn/grid_search.py:42: DeprecationWarning: This module was deprecated in version 0.18 in favor of the model_selection module into which all the refactored classes and functions are moved. This module will be removed in 0.20.\n",
      "  DeprecationWarning)\n"
     ]
    }
   ],
   "source": [
    "import sklearn_crfsuite\n",
    "from sklearn_crfsuite import scorers\n",
    "from sklearn_crfsuite import metrics\n",
    "\n",
    "from nltk.tag.stanford import StanfordPOSTagger\n",
    "from stanford_postagger.stanford_wrapper import StanfordPOSTagger as StanfordPOSTaggerWrapper\n",
    "\n",
    "from sklearn.metrics import make_scorer\n",
    "from sklearn.model_selection import cross_val_score\n",
    "\n",
    "import scipy\n",
    "from sklearn.grid_search import RandomizedSearchCV"
   ]
  },
  {
   "cell_type": "code",
   "execution_count": 2,
   "metadata": {},
   "outputs": [],
   "source": [
    "%load_ext autoreload\n",
    "%autoreload 2"
   ]
  },
  {
   "cell_type": "markdown",
   "metadata": {},
   "source": [
    "# Read Dataset"
   ]
  },
  {
   "cell_type": "code",
   "execution_count": 3,
   "metadata": {},
   "outputs": [],
   "source": [
    "f = open('datasets/conll2003/train.txt', 'r')\n",
    "lines = f.readlines()\n",
    "f.close()\n",
    "\n",
    "del lines[0]\n",
    "del lines[0]\n",
    "\n",
    "dataset = []\n",
    "sentence = []\n",
    "for line in lines:\n",
    "    splitter = line.strip().split(' ')\n",
    "    if splitter[0] == '':\n",
    "        continue\n",
    "    elif (splitter[0] == '-DOCSTART-'):\n",
    "        dataset.append(sentence)\n",
    "        sentence = []\n",
    "    else:\n",
    "        token = splitter[0]\n",
    "        tag = splitter[3]\n",
    "        sentence.append((token, tag))"
   ]
  },
  {
   "cell_type": "code",
   "execution_count": 4,
   "metadata": {},
   "outputs": [],
   "source": [
    "def convert_conlltxt2dataset(filename):\n",
    "    f = open(filename, 'r')\n",
    "    lines = f.readlines()\n",
    "    f.close()\n",
    "    \n",
    "    del lines[0]\n",
    "    del lines[0]\n",
    "    \n",
    "    dataset = []\n",
    "    sentence = []\n",
    "    for line in lines:\n",
    "        splitter = line.strip().split(' ')\n",
    "        if splitter[0] == '':\n",
    "            continue\n",
    "        elif (splitter[0] == '-DOCSTART-'):\n",
    "            dataset.append(sentence)\n",
    "            sentence = []\n",
    "        else:\n",
    "            token = splitter[0]\n",
    "            tag = splitter[3]\n",
    "            sentence.append((token, tag))\n",
    "    return dataset"
   ]
  },
  {
   "cell_type": "code",
   "execution_count": 5,
   "metadata": {},
   "outputs": [],
   "source": [
    "train_dataset = convert_conlltxt2dataset('datasets/conll2003/train.txt')\n",
    "validation_dataset = convert_conlltxt2dataset('datasets/conll2003/valid.txt')\n",
    "test_dataset = convert_conlltxt2dataset('datasets/conll2003/test.txt')"
   ]
  },
  {
   "cell_type": "code",
   "execution_count": 6,
   "metadata": {
    "scrolled": false
   },
   "outputs": [
    {
     "data": {
      "text/plain": [
       "[('EU', 'B-ORG'),\n",
       " ('rejects', 'O'),\n",
       " ('German', 'B-MISC'),\n",
       " ('call', 'O'),\n",
       " ('to', 'O')]"
      ]
     },
     "execution_count": 6,
     "metadata": {},
     "output_type": "execute_result"
    }
   ],
   "source": [
    "train_dataset[0][0:5]"
   ]
  },
  {
   "cell_type": "markdown",
   "metadata": {},
   "source": [
    "# Add Postag to Dataset"
   ]
  },
  {
   "cell_type": "markdown",
   "metadata": {},
   "source": [
    "## Example"
   ]
  },
  {
   "cell_type": "code",
   "execution_count": 7,
   "metadata": {},
   "outputs": [
    {
     "data": {
      "text/plain": [
       "[('+44', 'CD'), ('171', 'CD')]"
      ]
     },
     "execution_count": 7,
     "metadata": {},
     "output_type": "execute_result"
    }
   ],
   "source": [
    "postagger = StanfordPOSTaggerWrapper()\n",
    "postag = postagger.tag('+44 171')\n",
    "postag"
   ]
  },
  {
   "cell_type": "code",
   "execution_count": 8,
   "metadata": {
    "scrolled": true
   },
   "outputs": [],
   "source": [
    "def add_postag2dataset(dataset):\n",
    "    postagger = StanfordPOSTaggerWrapper()\n",
    "    dataset_with_postag = []\n",
    "    for sent in dataset:\n",
    "        postagged_sent = []\n",
    "        for index, (token, tag) in enumerate(sent):\n",
    "            postagged_token = postagger.tag(token)\n",
    "            postagged_sent.append((token, postagged_token[0][1], tag))\n",
    "        dataset_with_postag.append(postagged_sent)\n",
    "        \n",
    "    return dataset_with_postag\n",
    "\n",
    "postagged_train_dataset = add_postag2dataset(train_dataset)\n",
    "postagged_validation_dataset = add_postag2dataset(validation_dataset)\n",
    "postagged_test_dataset = add_postag2dataset(test_dataset)\n",
    "\n",
    "# Delete Unused Dataset\n",
    "del train_dataset\n",
    "del validation_dataset\n",
    "del test_dataset"
   ]
  },
  {
   "cell_type": "code",
   "execution_count": 9,
   "metadata": {},
   "outputs": [
    {
     "data": {
      "text/plain": [
       "[('EU', 'NNP', 'B-ORG'),\n",
       " ('rejects', 'VBZ', 'O'),\n",
       " ('German', 'JJ', 'B-MISC'),\n",
       " ('call', 'NN', 'O'),\n",
       " ('to', 'TO', 'O')]"
      ]
     },
     "execution_count": 9,
     "metadata": {},
     "output_type": "execute_result"
    }
   ],
   "source": [
    "postagged_train_dataset[0][0:5]"
   ]
  },
  {
   "cell_type": "markdown",
   "metadata": {},
   "source": [
    "# Extract Feature"
   ]
  },
  {
   "cell_type": "code",
   "execution_count": 10,
   "metadata": {},
   "outputs": [],
   "source": [
    "def word2features(sent, i):\n",
    "    word = sent[i][0]\n",
    "    postag = sent[i][1]\n",
    "\n",
    "    # Ortographic Feature, Word, POSTag & N-Gram\n",
    "    features = {\n",
    "        'word.lower()': word.lower(),\n",
    "        'word[-3:]': word[-3:],\n",
    "        'word[-2:]': word[-2:],\n",
    "        'word[:2]': word[:2],\n",
    "        'word[:3]': word[:3],\n",
    "        'word.istitle()': word.istitle(),\n",
    "        'word.isdigit()': word.isdigit(),\n",
    "        'word.isupper()': word.isupper(),\n",
    "        'postag': postag,\n",
    "        'postag[:2]': postag[:2]\n",
    "    }\n",
    "    \n",
    "    # Position\n",
    "    features.update({\n",
    "        'pos_front': i,\n",
    "        'pos_end': len(sent) - i\n",
    "    })\n",
    "    \n",
    "    # Bag Of Words\n",
    "    if i > 0:\n",
    "        word1 = sent[i-1][0]\n",
    "        postag1 = sent[i-1][1]\n",
    "        features.update({\n",
    "            '-1:word.lower()': word1.lower(),\n",
    "            '-1:word.istitle()': word1.istitle(),\n",
    "            '-1:word.isupper()': word1.isupper(),\n",
    "            '-1:postag': postag1,\n",
    "            '-1:postag[:2]': postag1[:2],\n",
    "        })\n",
    "    else:\n",
    "        features['BOS'] = True\n",
    "        \n",
    "    if i < len(sent) - 1:\n",
    "        word1 = sent[i+1][0]\n",
    "        postag1 = sent[i+1][1]\n",
    "        features.update({\n",
    "            '+1:word.lower()': word1.lower(),\n",
    "            '+1:word.istitle()': word1.istitle(),\n",
    "            '+1:word.isupper()': word1.isupper(),\n",
    "            '+1:postag': postag1,\n",
    "            '+1:postag[:2]': postag1[:2],\n",
    "        })\n",
    "    else:\n",
    "        features['EOS'] = True\n",
    "\n",
    "    return features\n",
    "\n",
    "def sent2features(sent):\n",
    "    return [word2features(sent, i) for i in range(len(sent))]\n",
    "\n",
    "def sent2postag(sent):\n",
    "    return [postag for token, postag, label in sent]\n",
    "\n",
    "def sent2labels(sent):\n",
    "    return [label for token, postag, label in sent]\n",
    "\n",
    "def sent2tokens(sent):\n",
    "    return [token for token, postag, label in sent]"
   ]
  },
  {
   "cell_type": "code",
   "execution_count": 11,
   "metadata": {},
   "outputs": [
    {
     "data": {
      "text/plain": [
       "{'word.lower()': 'eu',\n",
       " 'word[-3:]': 'EU',\n",
       " 'word[-2:]': 'EU',\n",
       " 'word[:2]': 'EU',\n",
       " 'word[:3]': 'EU',\n",
       " 'word.istitle()': False,\n",
       " 'word.isdigit()': False,\n",
       " 'word.isupper()': True,\n",
       " 'postag': 'NNP',\n",
       " 'postag[:2]': 'NN',\n",
       " 'pos_front': 0,\n",
       " 'pos_end': 469,\n",
       " 'BOS': True,\n",
       " '+1:word.lower()': 'rejects',\n",
       " '+1:word.istitle()': False,\n",
       " '+1:word.isupper()': False,\n",
       " '+1:postag': 'VBZ',\n",
       " '+1:postag[:2]': 'VB'}"
      ]
     },
     "execution_count": 11,
     "metadata": {},
     "output_type": "execute_result"
    }
   ],
   "source": [
    "sent2features(postagged_train_dataset[0])[0]"
   ]
  },
  {
   "cell_type": "markdown",
   "metadata": {},
   "source": [
    "# Feature Extraction"
   ]
  },
  {
   "cell_type": "code",
   "execution_count": 12,
   "metadata": {},
   "outputs": [],
   "source": [
    "X_train = [sent2features(sent) for sent in postagged_train_dataset]\n",
    "y_train = [sent2labels(sent) for sent in postagged_train_dataset]\n",
    "\n",
    "X_val = [sent2features(sent) for sent in postagged_validation_dataset]\n",
    "y_val = [sent2labels(sent) for sent in postagged_validation_dataset]\n",
    "\n",
    "X_test = [sent2features(sent) for sent in postagged_test_dataset]\n",
    "y_test = [sent2labels(sent) for sent in postagged_test_dataset]\n",
    "\n",
    "del postagged_train_dataset\n",
    "del postagged_validation_dataset\n",
    "del postagged_test_dataset"
   ]
  },
  {
   "cell_type": "code",
   "execution_count": 13,
   "metadata": {},
   "outputs": [
    {
     "data": {
      "text/plain": [
       "{'word.lower()': 'eu',\n",
       " 'word[-3:]': 'EU',\n",
       " 'word[-2:]': 'EU',\n",
       " 'word[:2]': 'EU',\n",
       " 'word[:3]': 'EU',\n",
       " 'word.istitle()': False,\n",
       " 'word.isdigit()': False,\n",
       " 'word.isupper()': True,\n",
       " 'postag': 'NNP',\n",
       " 'postag[:2]': 'NN',\n",
       " 'pos_front': 0,\n",
       " 'pos_end': 469,\n",
       " 'BOS': True,\n",
       " '+1:word.lower()': 'rejects',\n",
       " '+1:word.istitle()': False,\n",
       " '+1:word.isupper()': False,\n",
       " '+1:postag': 'VBZ',\n",
       " '+1:postag[:2]': 'VB'}"
      ]
     },
     "execution_count": 13,
     "metadata": {},
     "output_type": "execute_result"
    }
   ],
   "source": [
    "X_train[0][0]"
   ]
  },
  {
   "cell_type": "markdown",
   "metadata": {},
   "source": [
    "# Load Word Embedding and Add to The Feature"
   ]
  },
  {
   "cell_type": "code",
   "execution_count": 14,
   "metadata": {},
   "outputs": [],
   "source": [
    "def load_word_embedding_model(filename):\n",
    "    f = open(filename, 'r', encoding='utf-8')\n",
    "    lines = f.readlines()\n",
    "    del lines[0]\n",
    "\n",
    "    embedding_dict = {}\n",
    "    counter = 0\n",
    "    for line in lines:\n",
    "        line = line.strip()\n",
    "        arr = line.split(' ')\n",
    "        word = arr[0].lower()\n",
    "        vectors = [float(x) for x in arr[1:]]\n",
    "        embedding_dict[word] = vectors\n",
    "    return embedding_dict\n",
    "\n",
    "def add_word_embedding2feature(embedding_dict, feature):\n",
    "    VECTOR_SPACE_SIZE = 50\n",
    "    for i, sentence in enumerate(feature):\n",
    "        for j, token in enumerate(sentence):\n",
    "            word = token['word.lower()']\n",
    "            vector = []\n",
    "            if word in embedding_dict:\n",
    "                vector = embedding_dict[word]\n",
    "            else:\n",
    "                vector = [0 for i in range(VECTOR_SPACE_SIZE)]\n",
    "            for k in range(len(vector)):\n",
    "                wk = 'w{}'.format(k+1)\n",
    "                feature[i][j][wk] = vector[k]\n",
    "    return feature\n",
    "\n",
    "from copy import deepcopy"
   ]
  },
  {
   "cell_type": "code",
   "execution_count": 15,
   "metadata": {},
   "outputs": [],
   "source": [
    "cbow_embedding_dict = load_word_embedding_model('models/word_embedding/cbow_model.txt')\n",
    "X_cbow = deepcopy(X_train)\n",
    "X_cbow = add_word_embedding2feature(cbow_embedding_dict, X_cbow)\n",
    "\n",
    "del cbow_embedding_dict"
   ]
  },
  {
   "cell_type": "code",
   "execution_count": 21,
   "metadata": {},
   "outputs": [],
   "source": [
    "sg_embedding_dict = load_word_embedding_model('models/word_embedding/sg_model.txt')\n",
    "X_sg = deepcopy(X_train)\n",
    "X_sg = add_word_embedding2feature(sg_embedding_dict, X_sg)\n",
    "\n",
    "del sg_embedding_dict"
   ]
  },
  {
   "cell_type": "code",
   "execution_count": 22,
   "metadata": {},
   "outputs": [],
   "source": [
    "fasttext_embedding_dict = load_word_embedding_model('models/word_embedding/fasttext_model.txt')\n",
    "X_fasttext = deepcopy(X_train)\n",
    "X_fasttext = add_word_embedding2feature(fasttext_embedding_dict, X_fasttext)\n",
    "\n",
    "del fasttext_embedding_dict"
   ]
  },
  {
   "cell_type": "code",
   "execution_count": 23,
   "metadata": {},
   "outputs": [],
   "source": [
    "del X_train"
   ]
  },
  {
   "cell_type": "code",
   "execution_count": 24,
   "metadata": {},
   "outputs": [
    {
     "data": {
      "text/plain": [
       "{'word.lower()': 'eu',\n",
       " 'word[-3:]': 'EU',\n",
       " 'word[-2:]': 'EU',\n",
       " 'word[:2]': 'EU',\n",
       " 'word[:3]': 'EU',\n",
       " 'word.istitle()': False,\n",
       " 'word.isdigit()': False,\n",
       " 'word.isupper()': True,\n",
       " 'postag': 'NNP',\n",
       " 'postag[:2]': 'NN',\n",
       " 'pos_front': 0,\n",
       " 'pos_end': 469,\n",
       " 'BOS': True,\n",
       " '+1:word.lower()': 'rejects',\n",
       " '+1:word.istitle()': False,\n",
       " '+1:word.isupper()': False,\n",
       " '+1:postag': 'VBZ',\n",
       " '+1:postag[:2]': 'VB',\n",
       " 'w1': 0.018517746,\n",
       " 'w2': 1.4631176,\n",
       " 'w3': -0.18639173,\n",
       " 'w4': 1.3069087,\n",
       " 'w5': 0.21443413,\n",
       " 'w6': 1.0161471,\n",
       " 'w7': 0.20832239,\n",
       " 'w8': 0.08281942,\n",
       " 'w9': -0.8169725,\n",
       " 'w10': 0.3771213,\n",
       " 'w11': -0.8022201,\n",
       " 'w12': 1.0028068,\n",
       " 'w13': -0.22655097,\n",
       " 'w14': 0.09523303,\n",
       " 'w15': -0.18187046,\n",
       " 'w16': -1.0263757,\n",
       " 'w17': 0.686662,\n",
       " 'w18': 0.24516387,\n",
       " 'w19': 1.2970364,\n",
       " 'w20': -0.47986302,\n",
       " 'w21': -0.6222423,\n",
       " 'w22': 0.13895805,\n",
       " 'w23': 0.83969325,\n",
       " 'w24': -0.031511858,\n",
       " 'w25': 0.6807943,\n",
       " 'w26': 0.661211,\n",
       " 'w27': 1.7877787,\n",
       " 'w28': -0.006412131,\n",
       " 'w29': -0.23526877,\n",
       " 'w30': 0.1048236,\n",
       " 'w31': 0.17770965,\n",
       " 'w32': -0.17608136,\n",
       " 'w33': -1.023927,\n",
       " 'w34': 1.0216589,\n",
       " 'w35': 0.105304465,\n",
       " 'w36': 0.20172244,\n",
       " 'w37': 0.22776695,\n",
       " 'w38': 0.51708853,\n",
       " 'w39': 0.57368994,\n",
       " 'w40': 0.500883,\n",
       " 'w41': -0.5196928,\n",
       " 'w42': 0.13940911,\n",
       " 'w43': -0.5471797,\n",
       " 'w44': 0.2817869,\n",
       " 'w45': 0.38495344,\n",
       " 'w46': 0.32855317,\n",
       " 'w47': -0.52647686,\n",
       " 'w48': -1.5156964,\n",
       " 'w49': -0.5300866,\n",
       " 'w50': 0.69649214}"
      ]
     },
     "execution_count": 24,
     "metadata": {},
     "output_type": "execute_result"
    }
   ],
   "source": [
    "X_cbow[0][0]"
   ]
  },
  {
   "cell_type": "code",
   "execution_count": 25,
   "metadata": {},
   "outputs": [
    {
     "data": {
      "text/plain": [
       "{'word.lower()': 'eu',\n",
       " 'word[-3:]': 'EU',\n",
       " 'word[-2:]': 'EU',\n",
       " 'word[:2]': 'EU',\n",
       " 'word[:3]': 'EU',\n",
       " 'word.istitle()': False,\n",
       " 'word.isdigit()': False,\n",
       " 'word.isupper()': True,\n",
       " 'postag': 'NNP',\n",
       " 'postag[:2]': 'NN',\n",
       " 'pos_front': 0,\n",
       " 'pos_end': 469,\n",
       " 'BOS': True,\n",
       " '+1:word.lower()': 'rejects',\n",
       " '+1:word.istitle()': False,\n",
       " '+1:word.isupper()': False,\n",
       " '+1:postag': 'VBZ',\n",
       " '+1:postag[:2]': 'VB',\n",
       " 'w1': 0.10116119,\n",
       " 'w2': 0.0697031,\n",
       " 'w3': -0.086072564,\n",
       " 'w4': 0.8721925,\n",
       " 'w5': 0.6003412,\n",
       " 'w6': 0.25058785,\n",
       " 'w7': 0.5479575,\n",
       " 'w8': -0.16468725,\n",
       " 'w9': -0.5230241,\n",
       " 'w10': -0.24333891,\n",
       " 'w11': -0.5888011,\n",
       " 'w12': 0.85759246,\n",
       " 'w13': 0.039961062,\n",
       " 'w14': -0.0027838466,\n",
       " 'w15': -0.7730575,\n",
       " 'w16': -0.84855545,\n",
       " 'w17': -0.56566066,\n",
       " 'w18': -0.14627732,\n",
       " 'w19': 0.6368246,\n",
       " 'w20': -0.3295281,\n",
       " 'w21': -0.78713435,\n",
       " 'w22': -0.5496535,\n",
       " 'w23': 0.49606988,\n",
       " 'w24': -0.21009937,\n",
       " 'w25': 0.75403863,\n",
       " 'w26': 0.8362489,\n",
       " 'w27': 1.6242998,\n",
       " 'w28': -0.47526187,\n",
       " 'w29': 0.419126,\n",
       " 'w30': 0.15915819,\n",
       " 'w31': 1.0483721,\n",
       " 'w32': 0.15641949,\n",
       " 'w33': -0.69557184,\n",
       " 'w34': 0.33220902,\n",
       " 'w35': 0.8105165,\n",
       " 'w36': -0.25833088,\n",
       " 'w37': 0.040898174,\n",
       " 'w38': 0.74099797,\n",
       " 'w39': 0.25155067,\n",
       " 'w40': 0.7709786,\n",
       " 'w41': -0.38687813,\n",
       " 'w42': 0.33788493,\n",
       " 'w43': -0.06768699,\n",
       " 'w44': 0.47983706,\n",
       " 'w45': 0.55387616,\n",
       " 'w46': 0.22778948,\n",
       " 'w47': 0.4231784,\n",
       " 'w48': -0.73660135,\n",
       " 'w49': 0.17730041,\n",
       " 'w50': 0.33581018}"
      ]
     },
     "execution_count": 25,
     "metadata": {},
     "output_type": "execute_result"
    }
   ],
   "source": [
    "X_sg[0][0]"
   ]
  },
  {
   "cell_type": "code",
   "execution_count": 26,
   "metadata": {},
   "outputs": [
    {
     "data": {
      "text/plain": [
       "{'word.lower()': 'eu',\n",
       " 'word[-3:]': 'EU',\n",
       " 'word[-2:]': 'EU',\n",
       " 'word[:2]': 'EU',\n",
       " 'word[:3]': 'EU',\n",
       " 'word.istitle()': False,\n",
       " 'word.isdigit()': False,\n",
       " 'word.isupper()': True,\n",
       " 'postag': 'NNP',\n",
       " 'postag[:2]': 'NN',\n",
       " 'pos_front': 0,\n",
       " 'pos_end': 469,\n",
       " 'BOS': True,\n",
       " '+1:word.lower()': 'rejects',\n",
       " '+1:word.istitle()': False,\n",
       " '+1:word.isupper()': False,\n",
       " '+1:postag': 'VBZ',\n",
       " '+1:postag[:2]': 'VB',\n",
       " 'w1': -0.12108027,\n",
       " 'w2': -0.10240047,\n",
       " 'w3': 0.034586996,\n",
       " 'w4': -0.043040045,\n",
       " 'w5': -0.15763804,\n",
       " 'w6': 0.14179787,\n",
       " 'w7': -0.04570103,\n",
       " 'w8': -0.016295906,\n",
       " 'w9': -0.10652885,\n",
       " 'w10': -0.041670088,\n",
       " 'w11': -0.04865849,\n",
       " 'w12': 0.067041956,\n",
       " 'w13': -0.19511244,\n",
       " 'w14': -0.059062067,\n",
       " 'w15': 0.14742428,\n",
       " 'w16': 0.032833103,\n",
       " 'w17': 0.024178492,\n",
       " 'w18': 0.03229901,\n",
       " 'w19': -0.046403915,\n",
       " 'w20': 0.011488709,\n",
       " 'w21': 0.03376751,\n",
       " 'w22': -0.041358087,\n",
       " 'w23': 0.06666262,\n",
       " 'w24': 0.02660803,\n",
       " 'w25': 0.08017783,\n",
       " 'w26': 0.07341458,\n",
       " 'w27': 0.01881025,\n",
       " 'w28': 0.046636917,\n",
       " 'w29': 0.078622654,\n",
       " 'w30': 0.07859706,\n",
       " 'w31': -0.012855269,\n",
       " 'w32': -0.057327982,\n",
       " 'w33': -0.15526682,\n",
       " 'w34': -0.11913335,\n",
       " 'w35': 0.12844561,\n",
       " 'w36': -0.11212072,\n",
       " 'w37': 0.08691261,\n",
       " 'w38': -0.12736821,\n",
       " 'w39': -0.027905263,\n",
       " 'w40': 0.1629504,\n",
       " 'w41': -0.04026493,\n",
       " 'w42': -0.17622373,\n",
       " 'w43': -0.15656051,\n",
       " 'w44': 0.1122482,\n",
       " 'w45': -0.013096625,\n",
       " 'w46': -0.027872562,\n",
       " 'w47': -0.115629196,\n",
       " 'w48': 0.052309312,\n",
       " 'w49': -0.042888332,\n",
       " 'w50': 0.01596629}"
      ]
     },
     "execution_count": 26,
     "metadata": {},
     "output_type": "execute_result"
    }
   ],
   "source": [
    "X_fasttext[0][0]"
   ]
  },
  {
   "cell_type": "markdown",
   "metadata": {},
   "source": [
    "# Train Classifier Using Best Parameter"
   ]
  },
  {
   "cell_type": "code",
   "execution_count": 27,
   "metadata": {},
   "outputs": [],
   "source": [
    "c1_ = 0.001262621084804322\n",
    "c2_ = 0.07748342053200617"
   ]
  },
  {
   "cell_type": "code",
   "execution_count": 30,
   "metadata": {},
   "outputs": [
    {
     "name": "stdout",
     "output_type": "stream",
     "text": [
      "CPU times: user 1min 3s, sys: 793 ms, total: 1min 3s\n",
      "Wall time: 1min 3s\n"
     ]
    }
   ],
   "source": [
    "%%time\n",
    "crf_cbow = sklearn_crfsuite.CRF(\n",
    "    algorithm='lbfgs',\n",
    "    c1=c1_,\n",
    "    c2=c1_,\n",
    "    max_iterations=100,\n",
    "    all_possible_transitions=True\n",
    ")\n",
    "crf_cbow.fit(X_cbow, y_train)"
   ]
  },
  {
   "cell_type": "code",
   "execution_count": 31,
   "metadata": {},
   "outputs": [
    {
     "name": "stdout",
     "output_type": "stream",
     "text": [
      "CPU times: user 1min 5s, sys: 318 ms, total: 1min 5s\n",
      "Wall time: 1min 5s\n"
     ]
    }
   ],
   "source": [
    "%%time\n",
    "crf_sg = sklearn_crfsuite.CRF(\n",
    "    algorithm='lbfgs',\n",
    "    c1=c1_,\n",
    "    c2=c1_,\n",
    "    max_iterations=100,\n",
    "    all_possible_transitions=True\n",
    ")\n",
    "crf_sg.fit(X_sg, y_train)"
   ]
  },
  {
   "cell_type": "code",
   "execution_count": 32,
   "metadata": {},
   "outputs": [
    {
     "name": "stdout",
     "output_type": "stream",
     "text": [
      "CPU times: user 1min 5s, sys: 185 ms, total: 1min 5s\n",
      "Wall time: 1min 5s\n"
     ]
    }
   ],
   "source": [
    "%%time\n",
    "crf_fasttext = sklearn_crfsuite.CRF(\n",
    "    algorithm='lbfgs',\n",
    "    c1=c1_,\n",
    "    c2=c1_,\n",
    "    max_iterations=100,\n",
    "    all_possible_transitions=True\n",
    ")\n",
    "crf_fasttext.fit(X_fasttext, y_train)"
   ]
  },
  {
   "cell_type": "markdown",
   "metadata": {},
   "source": [
    "# Save Model"
   ]
  },
  {
   "cell_type": "code",
   "execution_count": 33,
   "metadata": {},
   "outputs": [],
   "source": [
    "import pickle"
   ]
  },
  {
   "cell_type": "code",
   "execution_count": 34,
   "metadata": {},
   "outputs": [],
   "source": [
    "filename_cbow = 'temp_crf_cbow.sav'\n",
    "pickle.dump(crf_cbow, open(filename_cbow, 'wb'))\n",
    "\n",
    "filename_sg = 'temp_crf_sg.sav'\n",
    "pickle.dump(crf_sg, open(filename_sg, 'wb'))\n",
    "\n",
    "filename_fasttext = 'temp_crf_fasttext.sav'\n",
    "pickle.dump(crf_fasttext, open(filename_fasttext, 'wb'))"
   ]
  }
 ],
 "metadata": {
  "kernelspec": {
   "display_name": "Python [default]",
   "language": "python",
   "name": "python3"
  },
  "language_info": {
   "codemirror_mode": {
    "name": "ipython",
    "version": 3
   },
   "file_extension": ".py",
   "mimetype": "text/x-python",
   "name": "python",
   "nbconvert_exporter": "python",
   "pygments_lexer": "ipython3",
   "version": "3.6.5"
  }
 },
 "nbformat": 4,
 "nbformat_minor": 2
}

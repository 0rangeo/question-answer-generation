{
 "cells": [
  {
   "cell_type": "markdown",
   "metadata": {},
   "source": [
    "# Anago"
   ]
  },
  {
   "cell_type": "code",
   "execution_count": 1,
   "metadata": {},
   "outputs": [
    {
     "name": "stderr",
     "output_type": "stream",
     "text": [
      "/home/agus/anaconda3/envs/basic/lib/python3.6/site-packages/h5py/__init__.py:36: FutureWarning: Conversion of the second argument of issubdtype from `float` to `np.floating` is deprecated. In future, it will be treated as `np.float64 == np.dtype(float).type`.\n",
      "  from ._conv import register_converters as _register_converters\n",
      "Using TensorFlow backend.\n"
     ]
    }
   ],
   "source": [
    "import anago"
   ]
  },
  {
   "cell_type": "code",
   "execution_count": 2,
   "metadata": {},
   "outputs": [],
   "source": [
    "f = open('datasets/conll2003/train.txt', 'r')\n",
    "lines = f.readlines()\n",
    "\n",
    "del lines[0]\n",
    "del lines[0]\n",
    "\n",
    "corpus_token = []\n",
    "corpus_tag = []\n",
    "token_list = []\n",
    "tag_list = []\n",
    "for line in lines:\n",
    "    splitter = line.strip().split(' ')\n",
    "    if splitter[0] == '-DOCSTART-':\n",
    "        corpus_token.append(token_list)\n",
    "        corpus_tag.append(tag_list)\n",
    "        token_list = []\n",
    "        tag_list = []\n",
    "    elif splitter[0] == '':\n",
    "        continue\n",
    "    else:\n",
    "        token_list.append(splitter[0])\n",
    "        tag_list.append(splitter[3])\n",
    "        \n",
    "f = open('datasets/conll2003/test.txt', 'r')\n",
    "lines = f.readlines()\n",
    "\n",
    "del lines[0]\n",
    "del lines[0]\n",
    "\n",
    "test_token = []\n",
    "test_tag = []\n",
    "token_list = []\n",
    "tag_list = []\n",
    "for line in lines:\n",
    "    splitter = line.strip().split(' ')\n",
    "    if splitter[0] == '-DOCSTART-':\n",
    "        test_token.append(token_list)\n",
    "        test_tag.append(tag_list)\n",
    "        token_list = []\n",
    "        tag_list = []\n",
    "    elif splitter[0] == '':\n",
    "        continue\n",
    "    else:\n",
    "        token_list.append(splitter[0])\n",
    "        tag_list.append(splitter[3])"
   ]
  },
  {
   "cell_type": "code",
   "execution_count": null,
   "metadata": {},
   "outputs": [
    {
     "name": "stdout",
     "output_type": "stream",
     "text": [
      "Epoch 1/15\n",
      " 9/30 [========>.....................] - ETA: 41s - loss: 11.1186"
     ]
    }
   ],
   "source": [
    "model = anago.Sequence()\n",
    "model.fit(corpus_token, corpus_tag, test_token, test_tag, epochs=15)"
   ]
  },
  {
   "cell_type": "code",
   "execution_count": null,
   "metadata": {},
   "outputs": [],
   "source": [
    "model.score(test_token, test_tag)"
   ]
  }
 ],
 "metadata": {
  "kernelspec": {
   "display_name": "Python [conda env:basic]",
   "language": "python",
   "name": "conda-env-basic-py"
  },
  "language_info": {
   "codemirror_mode": {
    "name": "ipython",
    "version": 3
   },
   "file_extension": ".py",
   "mimetype": "text/x-python",
   "name": "python",
   "nbconvert_exporter": "python",
   "pygments_lexer": "ipython3",
   "version": "3.6.5"
  }
 },
 "nbformat": 4,
 "nbformat_minor": 2
}

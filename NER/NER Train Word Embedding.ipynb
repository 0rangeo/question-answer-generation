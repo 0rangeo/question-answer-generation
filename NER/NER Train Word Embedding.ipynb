{
 "cells": [
  {
   "cell_type": "markdown",
   "metadata": {},
   "source": [
    "# Read Dataset"
   ]
  },
  {
   "cell_type": "code",
   "execution_count": 1,
   "metadata": {},
   "outputs": [],
   "source": [
    "corpus = []\n",
    "f = open('datasets/conll2003/train.txt', 'r')\n",
    "lines = f.readlines()\n",
    "\n",
    "del lines[0]\n",
    "del lines[0]\n",
    "\n",
    "sentence = []\n",
    "for line in lines:\n",
    "    if line.strip().split(' ')[0] == '-DOCSTART-':\n",
    "        corpus.append(sentence)\n",
    "        sentence = []\n",
    "    else:\n",
    "        if line.strip() != '':\n",
    "            sentence.append(line.strip().split()[0])"
   ]
  },
  {
   "cell_type": "markdown",
   "metadata": {},
   "source": [
    "# Train Model"
   ]
  },
  {
   "cell_type": "code",
   "execution_count": null,
   "metadata": {},
   "outputs": [],
   "source": [
    "import gensim"
   ]
  },
  {
   "cell_type": "markdown",
   "metadata": {},
   "source": [
    "## CBOW"
   ]
  },
  {
   "cell_type": "code",
   "execution_count": null,
   "metadata": {},
   "outputs": [],
   "source": [
    "model_cbow = gensim.models.Word2Vec(\n",
    "    corpus,\n",
    "    size=50,\n",
    "    sg=0,\n",
    "    window=2,\n",
    "    min_count=5,\n",
    "    workers=4\n",
    ")"
   ]
  },
  {
   "cell_type": "code",
   "execution_count": null,
   "metadata": {},
   "outputs": [],
   "source": [
    "model_cbow.train(corpus, total_examples=len(corpus), epochs=50)"
   ]
  },
  {
   "cell_type": "markdown",
   "metadata": {},
   "source": [
    "## SG"
   ]
  },
  {
   "cell_type": "code",
   "execution_count": null,
   "metadata": {},
   "outputs": [],
   "source": [
    "model_sg = gensim.models.Word2Vec(\n",
    "    corpus,\n",
    "    size=50,\n",
    "    sg=1,\n",
    "    window=2,\n",
    "    min_count=5,\n",
    "    workers=4\n",
    ")"
   ]
  },
  {
   "cell_type": "code",
   "execution_count": null,
   "metadata": {},
   "outputs": [],
   "source": [
    "model_sg.train(corpus, total_examples=len(corpus), epochs=50)"
   ]
  },
  {
   "cell_type": "markdown",
   "metadata": {},
   "source": [
    "## FastText"
   ]
  },
  {
   "cell_type": "code",
   "execution_count": null,
   "metadata": {},
   "outputs": [],
   "source": [
    "model_fasttext = gensim.models.FastText(\n",
    "    corpus,\n",
    "    size=50,\n",
    "    window=2,\n",
    "    min_count=5,\n",
    "    workers=4\n",
    ")"
   ]
  },
  {
   "cell_type": "code",
   "execution_count": null,
   "metadata": {},
   "outputs": [],
   "source": [
    "import os\n",
    "\n",
    "def save_gensim_to_txt(gensim_model, output_filename):\n",
    "    directory = os.path.dirname(output_filename)\n",
    "    if not os.path.exists(directory):\n",
    "        os.makedirs(directory)\n",
    "\n",
    "    f = open(output_filename, 'w')\n",
    "    \n",
    "    words = list(gensim_model.wv.vocab)\n",
    "    print(len(words), len(gensim_model[words[0]]), file=f)\n",
    "    for word in words:\n",
    "        f.write(word+\" \"+\" \".join(str(vector) for vector in gensim_model[word]) + \"\\n\")\n",
    "    f.close()"
   ]
  },
  {
   "cell_type": "code",
   "execution_count": null,
   "metadata": {},
   "outputs": [],
   "source": [
    "save_gensim_to_txt(model_cbow, 'models/cbow_model.txt')\n",
    "save_gensim_to_txt(model_sg, 'models/sg_model.txt')\n",
    "save_gensim_to_txt(model_fasttext, 'models/fasttext_model.txt')"
   ]
  },
  {
   "cell_type": "code",
   "execution_count": null,
   "metadata": {},
   "outputs": [],
   "source": []
  }
 ],
 "metadata": {
  "kernelspec": {
   "display_name": "Python [default]",
   "language": "python",
   "name": "python3"
  },
  "language_info": {
   "codemirror_mode": {
    "name": "ipython",
    "version": 3
   },
   "file_extension": ".py",
   "mimetype": "text/x-python",
   "name": "python",
   "nbconvert_exporter": "python",
   "pygments_lexer": "ipython3",
   "version": "3.6.5"
  }
 },
 "nbformat": 4,
 "nbformat_minor": 2
}
